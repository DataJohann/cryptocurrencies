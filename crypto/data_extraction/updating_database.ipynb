{
 "cells": [
  {
   "cell_type": "code",
   "execution_count": 1,
   "id": "cf2d9444",
   "metadata": {},
   "outputs": [],
   "source": [
    "## Import our dependencies\n",
    "\n",
    "from sqlalchemy import create_engine, Column, Integer, String\n",
    "from sqlalchemy.ext.declarative import declarative_base\n",
    "from config import password\n",
    "import os\n",
    "import pandas as pd\n",
    "from sqlalchemy.ext.automap import automap_base\n",
    "import datetime\n",
    "import requests\n",
    "import numpy as np\n"
   ]
  },
  {
   "cell_type": "markdown",
   "id": "4afa8d01",
   "metadata": {},
   "source": [
    "# First steps is to get a connection to the database"
   ]
  },
  {
   "cell_type": "code",
   "execution_count": 2,
   "id": "3b357b4f",
   "metadata": {},
   "outputs": [],
   "source": [
    "## Get a connection to the database and make the string into a variable\n",
    "\n",
    "rds_connection_string = f'postgres:{password}@localhost:5432/Cryptocurrencies'\n",
    "\n",
    "## Save this line for production connection to heroku database\n",
    "# app.config['SQLALCHEMY_DATABASE_URI'] = os.environ.get('DATABASE_URL', '') or \n",
    "\n",
    "## Connect to local database\n",
    "\n",
    "connection_string = f'postgresql://{rds_connection_string}'\n",
    "\n",
    "## Create engine using the connection string to the database\n",
    "\n",
    "engine = create_engine(connection_string)\n",
    "\n",
    "# Reflect an existing database into a new model\n",
    "\n",
    "Base = automap_base()\n",
    "\n",
    "## reflect the tables\n",
    "\n",
    "Base.prepare(engine, reflect=True)"
   ]
  },
  {
   "cell_type": "code",
   "execution_count": null,
   "id": "7a89d4ee",
   "metadata": {},
   "outputs": [],
   "source": [
    "## Find out the names of the tables available\n",
    "# Base.metadata.tables"
   ]
  },
  {
   "cell_type": "code",
   "execution_count": 3,
   "id": "846e2b3e",
   "metadata": {},
   "outputs": [],
   "source": [
    "# Save a reference to the database tables we want to modify\n",
    "\n",
    "\n",
    "bitcoin_four_years_data = Base.classes.bitcoin_four_years_data"
   ]
  },
  {
   "cell_type": "code",
   "execution_count": 7,
   "id": "b61eeb88",
   "metadata": {},
   "outputs": [],
   "source": [
    "# session.query(bitcoin_four_years_data.id, bitcoin_four_years_data.name, bitcoin_four_years_data.dt).all()"
   ]
  },
  {
   "cell_type": "markdown",
   "id": "62a7ca3c",
   "metadata": {},
   "source": [
    "# You can also make queries and updates to tables in database using sqlalchemy"
   ]
  },
  {
   "cell_type": "code",
   "execution_count": 8,
   "id": "a83cd769",
   "metadata": {},
   "outputs": [],
   "source": [
    "# Use sqlalchemy if you want to do nosql\n",
    "\n",
    "from sqlalchemy.orm import Session\n",
    "session = Session(engine)"
   ]
  },
  {
   "cell_type": "markdown",
   "id": "b852ab3c",
   "metadata": {},
   "source": [
    "## Example of querying using sqlalchemy session"
   ]
  },
  {
   "cell_type": "code",
   "execution_count": null,
   "id": "39ba093c",
   "metadata": {},
   "outputs": [],
   "source": [
    "# You can query using a session\n",
    "#session.query(test_entry_order.name, test_entry_order.time).all()"
   ]
  },
  {
   "cell_type": "markdown",
   "id": "810eaeb1",
   "metadata": {},
   "source": [
    "## Example of adding records using SQLalchemy"
   ]
  },
  {
   "cell_type": "code",
   "execution_count": null,
   "id": "70f95c30",
   "metadata": {},
   "outputs": [],
   "source": [
    "# # Let's add records using a session element\n",
    "\n",
    "# session.add(test_entry_order(name='erin', time=8.31))\n",
    "\n",
    "# # Commit and close the session for the changes to be uploaded to the databse\n",
    "\n",
    "# session.commit()\n",
    "# session.close()"
   ]
  },
  {
   "cell_type": "markdown",
   "id": "45db67cc",
   "metadata": {},
   "source": [
    "## Example of queryng table using pandas and read_sql_query"
   ]
  },
  {
   "cell_type": "code",
   "execution_count": null,
   "id": "0902d172",
   "metadata": {},
   "outputs": [],
   "source": [
    "## Example of query using pandas\n",
    "#pd.read_sql_query(\"select * from test_entry_order\", con=engine)"
   ]
  },
  {
   "cell_type": "markdown",
   "id": "f44bfd67",
   "metadata": {},
   "source": [
    "## Example of adding records to a table using pandas"
   ]
  },
  {
   "cell_type": "code",
   "execution_count": null,
   "id": "20cb07d0",
   "metadata": {},
   "outputs": [],
   "source": [
    "## This method works for adding records to postgres database even if it returns an error\n",
    "\n",
    "# pd.read_sql_query(\"insert into test_entry_order(name, time) values ('turt', 7.48)\", con=engine)"
   ]
  },
  {
   "cell_type": "markdown",
   "id": "f81df480",
   "metadata": {},
   "source": [
    "## App that calculates how many missing dates there are between the table in question and today's date\n",
    "\n",
    "### It returns a list with the dates missing from the table"
   ]
  },
  {
   "cell_type": "code",
   "execution_count": 9,
   "id": "61d03148",
   "metadata": {},
   "outputs": [],
   "source": [
    "# Get today's date in the format required to make the request\n",
    "\n",
    "def updated_dates_list(table_name):\n",
    "    \n",
    "    today = datetime.date.today()\n",
    "\n",
    "    # Get the most recent date from data base using a query\n",
    "    \n",
    "    most_recent_entry = pd.read_sql_query(f\"select dt from {table_name} order by dt desc limit 1\", con=engine)['dt'][0]\n",
    "\n",
    "\n",
    "    # Make list of dates between today and the most recent one, first get the number of days\n",
    "    \n",
    "    num_days = (today - most_recent_entry).days -1\n",
    "\n",
    "\n",
    "    # Now make a list conprehension to provide the lists\n",
    "    \n",
    "    missing_dates_descending_order = [today - datetime.timedelta(days=x) for x in range(num_days)]\n",
    "    missing_dates_ascending_order = [today - datetime.timedelta(days=num_days) + datetime.timedelta(days=x)for x in range(num_days+1)]\n",
    "    \n",
    "    ## Format the list to be apt for requests (Don't do this step here)\n",
    "    #missing_dates = [missing_dates[x] for x in range(len(missing_dates))]\n",
    "    \n",
    "    return missing_dates_ascending_order"
   ]
  },
  {
   "cell_type": "code",
   "execution_count": 11,
   "id": "2dce626b",
   "metadata": {},
   "outputs": [
    {
     "data": {
      "text/plain": [
       "[datetime.date(2021, 7, 30),\n",
       " datetime.date(2021, 7, 31),\n",
       " datetime.date(2021, 8, 1),\n",
       " datetime.date(2021, 8, 2),\n",
       " datetime.date(2021, 8, 3),\n",
       " datetime.date(2021, 8, 4),\n",
       " datetime.date(2021, 8, 5)]"
      ]
     },
     "execution_count": 11,
     "metadata": {},
     "output_type": "execute_result"
    }
   ],
   "source": [
    "missing_dates = updated_dates_list('bitcoin_four_years_data')\n",
    "missing_dates"
   ]
  },
  {
   "cell_type": "markdown",
   "id": "4c228018",
   "metadata": {},
   "source": [
    "## App that makes requests for the missing dates to the API end point of coingecko"
   ]
  },
  {
   "cell_type": "code",
   "execution_count": 12,
   "id": "c6703de3",
   "metadata": {},
   "outputs": [],
   "source": [
    "## Make request for today's date\n",
    "\n",
    "\n",
    "def get_data_missing_dates(index_start = 0, last_index_wanted = len(missing_dates), token = 'bitcoin'):\n",
    "    \n",
    "    append_to = []\n",
    "    if len(missing_dates) == 0:\n",
    "        print(\"Database up to date\")\n",
    "\n",
    "    for x in range(index_start, 1):\n",
    "\n",
    "       \n",
    "        \n",
    "        date = {'date': missing_dates[x]}\n",
    "        print(\"now checking:\", missing_dates[x])\n",
    "        \n",
    "        url = f\"https://api.coingecko.com/api/v3/coins/{token}/history?date={missing_dates[x].strftime('%d-%m-20%y')}localization=False\"\n",
    "\n",
    "        try:\n",
    "            \n",
    "            ## If the request is succesful, combine the date dictionary with the response json\n",
    "    \n",
    "            response_json = requests.get(url).json()\n",
    "        \n",
    "            print(response_json['symbol'])\n",
    "\n",
    "            date.update(response_json)\n",
    "            \n",
    "            ## Append the combined dictionary to our desired list\n",
    "        \n",
    "            append_to.append(date)\n",
    "    \n",
    "            print('success')\n",
    "        except:\n",
    "            print(f\"Looks like you have been timed out, continue at {x} for {missing_dates[x]}\")\n",
    "            \n",
    "            \n",
    "            break\n",
    "            \n",
    "#     return append_to\n",
    "\n",
    "\n"
   ]
  },
  {
   "cell_type": "code",
   "execution_count": null,
   "id": "39758775",
   "metadata": {},
   "outputs": [],
   "source": [
    "missing_data = get_data_missing_dates()\n"
   ]
  },
  {
   "cell_type": "code",
   "execution_count": null,
   "id": "d338132f",
   "metadata": {},
   "outputs": [],
   "source": [
    "# Let's add records using a session element\n",
    "\n",
    "for i in range(len(missing_data)):\n",
    "    \n",
    "    ## Since we have to add our own primary keys, findout max primary key\n",
    "    \n",
    "    last_primary_key = pd.read_sql_query(\"select max(id) from adding_bitcoin limit 10\", con=engine)['max'][0].item()\n",
    "\n",
    "    \n",
    "    next_primary_key = last_primary_key+1\n",
    "\n",
    "    \n",
    "    session.add(adding_bitcoin(id = next_primary_key, dt = missing_data[i]['date'],\n",
    "    name = 'bitcoin',\n",
    "    symbol = missing_data[i]['symbol'],\n",
    "    name_2 = missing_data[i]['name'],\n",
    "    localization = f\"{missing_data[i]['localization']}\",\n",
    "    image = f\"{missing_data[i]['image']}\",\n",
    "    market_data = f\"{missing_data[i]['market_data']}\",\n",
    "    community_data = f\"{missing_data[i]['community_data']}\",\n",
    "    developer_data = f\"{missing_data[i]['developer_data']}\",\n",
    "    public_interest_stats = f\"{missing_data[i]['public_interest_stats']}\"))\n",
    "\n",
    "    # Commit and close the session for the changes to be uploaded to the databse\n",
    "\n",
    "    session.commit()\n",
    "    session.close()\n",
    "print(\"SUCCESS!\")\n",
    "# session = Session(engine)"
   ]
  },
  {
   "cell_type": "code",
   "execution_count": null,
   "id": "75cfb971",
   "metadata": {},
   "outputs": [],
   "source": [
    "pd.read_sql_query('SELECT dt from bitcoin_four_years_data', con=engine)"
   ]
  },
  {
   "cell_type": "markdown",
   "id": "7b1aa90f",
   "metadata": {},
   "source": [
    "## Example for reversing the order of a csv file using pandas"
   ]
  },
  {
   "cell_type": "code",
   "execution_count": null,
   "id": "3562a8df",
   "metadata": {},
   "outputs": [],
   "source": [
    "## 1. import the csv file as a datafram and save it the the variable df\n",
    "\n",
    "#df = pd.read_csv('../static/data/bitcoin_four_years_data.csv').drop(columns='Unnamed: 0')\n",
    "\n",
    "## 2. Convert the dataframe to a list\n",
    "\n",
    "#bitcoin_four_years = df.values.tolist()\n",
    "\n",
    "## 3. Reverse the order of the list\n",
    "\n",
    "#bitcoin_four_years.reverse()\n",
    "\n",
    "## Export the dataframe out as a csv \n",
    "\n",
    "#pd.DataFrame(bitcoin_four_years).to_csv(\"../static/data/reversed_bitcoin.csv\")"
   ]
  },
  {
   "cell_type": "code",
   "execution_count": 22,
   "id": "08163968",
   "metadata": {},
   "outputs": [],
   "source": [
    "def master_database_updating_app_bitcoin_only(table_name):\n",
    "    \n",
    "    #################################################################\n",
    "    ## STEP 1: Get list of dates with missing data\n",
    "    #################################################################\n",
    "    \n",
    "    # Get today's date\n",
    "    \n",
    "    today = datetime.date.today()\n",
    "\n",
    "    # Get the most recent date from data base using a query\n",
    "    \n",
    "    most_recent_entry_date = pd.read_sql_query(f\"select dt from {table_name} order by dt desc limit 1\", con=engine)['dt'][0]\n",
    "\n",
    "\n",
    "    ## Make list of dates between today and the most recent one, \n",
    "    ## First get the number of days\n",
    "    \n",
    "    num_days = (today - most_recent_entry_date).days -1\n",
    "\n",
    "\n",
    "    # Now make a list conprehension to provide the lists\n",
    "    \n",
    "    missing_dates_descending_order = [today - datetime.timedelta(days=x) for x in range(num_days)]\n",
    "    missing_dates_ascending_order = [today - datetime.timedelta(days=num_days) + datetime.timedelta(days=x)for x in range(num_days+1)]\n",
    "    \n",
    "    #################################################################\n",
    "    ## STEP 2: Make requests to api for missing date from the table\n",
    "    #################################################################\n",
    "    \n",
    "    \n",
    "    # Get the name of the token\n",
    "        \n",
    "    token = pd.read_sql_query(f\"select name from {table_name} order by id desc limit 1\", con=engine)['name'][0]\n",
    "    \n",
    "    ## Check to see if database is up to date\n",
    "    \n",
    "    if len(missing_dates_ascending_order) == 0:\n",
    "        print(\"Database up to date\")\n",
    "\n",
    "    for x in range(len(missing_dates_ascending_order)):\n",
    "\n",
    "        dt = missing_dates_ascending_order[x]\n",
    "        print(\"now checking:\", missing_dates_ascending_order[x])\n",
    "        \n",
    "        url = f\"https://api.coingecko.com/api/v3/coins/{token}/history?date={missing_dates_ascending_order[x].strftime('%d-%m-20%y')}localization=False\"\n",
    "        \n",
    "        response_json = requests.get(url).json()\n",
    "        \n",
    "        #################################################################\n",
    "        ## STEP 3: COLLECT THE RESPONSE AND ADD IT TO DATABASE\n",
    "        #################################################################\n",
    "        \n",
    "        ## Since we have to add our own primary keys, find out max primary key number\n",
    "    \n",
    "        last_primary_key = pd.read_sql_query(f\"select max(id) from {table_name} limit 10\", con=engine)['max'][0].item()\n",
    "        next_primary_key = last_primary_key+1\n",
    "\n",
    "        ## Add our parameters to our session to update bitcoin_four_years_data\n",
    "        \n",
    "        session.add(bitcoin_four_years_data(id = next_primary_key, \n",
    "        dt = dt,\n",
    "        name = f'{token}',\n",
    "        symbol = response_json['symbol'],\n",
    "        name_2 = response_json['name'],\n",
    "        localization = f\"{response_json['localization']}\",\n",
    "        image = f\"{response_json['image']}\",\n",
    "        market_data = f\"{response_json['market_data']}\",\n",
    "        community_data = f\"{response_json['community_data']}\",\n",
    "        developer_data = f\"{response_json['developer_data']}\",\n",
    "        public_interest_stats = f\"{response_json['public_interest_stats']}\"))\n",
    "\n",
    "        # Commit and close the session for the changes to be uploaded to the databse\n",
    "\n",
    "        session.commit()\n",
    "        session.close()\n",
    "    print(\"SUCCESS!\")"
   ]
  },
  {
   "cell_type": "code",
   "execution_count": 23,
   "id": "8170ed96",
   "metadata": {},
   "outputs": [
    {
     "name": "stdout",
     "output_type": "stream",
     "text": [
      "now checking: 2021-08-06\n",
      "SUCCESS!\n"
     ]
    }
   ],
   "source": [
    "master_database_updating_app_bitcoin_only('bitcoin_four_years_data')"
   ]
  },
  {
   "cell_type": "code",
   "execution_count": 24,
   "id": "047727d9",
   "metadata": {},
   "outputs": [],
   "source": [
    "def master_database_updating_app_bitcoin_only(table_name):\n",
    "    \n",
    "    #################################################################\n",
    "    ## STEP 1: Get list of dates with missing data\n",
    "    #################################################################\n",
    "    \n",
    "    # Get today's date\n",
    "    \n",
    "    today = datetime.date.today()\n",
    "\n",
    "    # Get the most recent date from data base using a query\n",
    "    \n",
    "    most_recent_entry_date = pd.read_sql_query(f\"select dt from {table_name} order by dt desc limit 1\", con=engine)['dt'][0]\n",
    "\n",
    "\n",
    "    ## Make list of dates between today and the most recent one, \n",
    "    ## First get the number of days\n",
    "    \n",
    "    num_days = (today - most_recent_entry_date).days -1\n",
    "\n",
    "\n",
    "    # Now make a list conprehension to provide the lists\n",
    "    \n",
    "    missing_dates_descending_order = [today - datetime.timedelta(days=x) for x in range(num_days)]\n",
    "    missing_dates_ascending_order = [today - datetime.timedelta(days=num_days) + datetime.timedelta(days=x)for x in range(num_days+1)]\n",
    "    \n",
    "    #################################################################\n",
    "    ## STEP 2: Make requests to api for missing date from the table\n",
    "    #################################################################\n",
    "    \n",
    "    \n",
    "    # Get the name of the token\n",
    "        \n",
    "    token = pd.read_sql_query(f\"select name from {table_name} order by id desc limit 1\", con=engine)['name'][0]\n",
    "    \n",
    "    ## Check to see if database is up to date\n",
    "    \n",
    "    if len(missing_dates_ascending_order) == 0:\n",
    "        print(\"Database up to date\")\n",
    "\n",
    "    for x in range(len(missing_dates_ascending_order)):\n",
    "\n",
    "        dt = missing_dates_ascending_order[x]\n",
    "        print(\"now checking:\", missing_dates_ascending_order[x])\n",
    "        \n",
    "        url = f\"https://api.coingecko.com/api/v3/coins/{token}/history?date={missing_dates_ascending_order[x].strftime('%d-%m-20%y')}localization=False\"\n",
    "        \n",
    "        response_json = requests.get(url).json()\n",
    "        \n",
    "        #################################################################\n",
    "        ## STEP 3: COLLECT THE RESPONSE AND ADD IT TO DATABASE\n",
    "        #################################################################\n",
    "        \n",
    "        ## Since we have to add our own primary keys, find out max primary key number\n",
    "    \n",
    "        last_primary_key = pd.read_sql_query(f\"select max(id) from {table_name} limit 10\", con=engine)['max'][0].item()\n",
    "        next_primary_key = last_primary_key+1\n",
    "\n",
    "        ## Add our parameters to our session to update bitcoin_four_years_data\n",
    "        \n",
    "        session.add(bitcoin_four_years_data(id = next_primary_key, \n",
    "        dt = dt,\n",
    "        name = f'{token}',\n",
    "        symbol = response_json['symbol'],\n",
    "        name_2 = response_json['name'],\n",
    "        localization = f\"{response_json['localization']}\",\n",
    "        image = f\"{response_json['image']}\",\n",
    "        market_data = f\"{response_json['market_data']}\",\n",
    "        community_data = f\"{response_json['community_data']}\",\n",
    "        developer_data = f\"{response_json['developer_data']}\",\n",
    "        public_interest_stats = f\"{response_json['public_interest_stats']}\"))\n",
    "\n",
    "        # Commit and close the session for the changes to be uploaded to the databse\n",
    "\n",
    "        session.commit()\n",
    "        session.close()\n",
    "    print(\"SUCCESS!\")"
   ]
  },
  {
   "cell_type": "code",
   "execution_count": null,
   "id": "0f165c57",
   "metadata": {},
   "outputs": [],
   "source": []
  },
  {
   "cell_type": "code",
   "execution_count": null,
   "id": "af27ee6d",
   "metadata": {},
   "outputs": [],
   "source": []
  },
  {
   "cell_type": "code",
   "execution_count": null,
   "id": "1eb2b9d5",
   "metadata": {},
   "outputs": [],
   "source": [
    "\n"
   ]
  },
  {
   "cell_type": "code",
   "execution_count": null,
   "id": "d2fcef33",
   "metadata": {},
   "outputs": [],
   "source": []
  },
  {
   "cell_type": "code",
   "execution_count": null,
   "id": "aadc6bc8",
   "metadata": {},
   "outputs": [],
   "source": []
  },
  {
   "cell_type": "code",
   "execution_count": null,
   "id": "b15fb18d",
   "metadata": {},
   "outputs": [],
   "source": []
  },
  {
   "cell_type": "code",
   "execution_count": null,
   "id": "a1888f05",
   "metadata": {},
   "outputs": [],
   "source": []
  },
  {
   "cell_type": "code",
   "execution_count": null,
   "id": "1fd51a49",
   "metadata": {},
   "outputs": [],
   "source": []
  }
 ],
 "metadata": {
  "kernelspec": {
   "display_name": "Python 3",
   "language": "python",
   "name": "python3"
  },
  "language_info": {
   "codemirror_mode": {
    "name": "ipython",
    "version": 3
   },
   "file_extension": ".py",
   "mimetype": "text/x-python",
   "name": "python",
   "nbconvert_exporter": "python",
   "pygments_lexer": "ipython3",
   "version": "3.8.5"
  }
 },
 "nbformat": 4,
 "nbformat_minor": 5
}
