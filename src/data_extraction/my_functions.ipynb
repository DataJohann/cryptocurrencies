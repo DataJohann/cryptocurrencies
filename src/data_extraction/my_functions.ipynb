{
 "cells": [
  {
   "cell_type": "code",
   "execution_count": 7,
   "id": "3c583cef",
   "metadata": {},
   "outputs": [],
   "source": [
    "import time"
   ]
  },
  {
   "cell_type": "code",
   "execution_count": 4,
   "id": "ff81aab8",
   "metadata": {},
   "outputs": [],
   "source": [
    "def timer_milliseconds(milliseconds = 3):\n",
    "    for i in range(0, milliseconds):\n",
    "        print(f\"Counting... {i +1}\")\n",
    "        time.sleep(1)"
   ]
  },
  {
   "cell_type": "code",
   "execution_count": 6,
   "id": "bb1e763b",
   "metadata": {},
   "outputs": [
    {
     "name": "stdout",
     "output_type": "stream",
     "text": [
      "Counting... 1\n",
      "Counting... 2\n",
      "Counting... 3\n"
     ]
    }
   ],
   "source": [
    "timer_milliseconds()"
   ]
  },
  {
   "cell_type": "code",
   "execution_count": null,
   "id": "414ef2aa",
   "metadata": {},
   "outputs": [],
   "source": []
  }
 ],
 "metadata": {
  "kernelspec": {
   "display_name": "Python 3",
   "language": "python",
   "name": "python3"
  },
  "language_info": {
   "codemirror_mode": {
    "name": "ipython",
    "version": 3
   },
   "file_extension": ".py",
   "mimetype": "text/x-python",
   "name": "python",
   "nbconvert_exporter": "python",
   "pygments_lexer": "ipython3",
   "version": "3.8.8"
  }
 },
 "nbformat": 4,
 "nbformat_minor": 5
}
